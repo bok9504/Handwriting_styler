{
 "cells": [
  {
   "cell_type": "markdown",
   "metadata": {},
   "source": [
    "# 폰트를 활용하여 데이터 생성 코드"
   ]
  },
  {
   "cell_type": "markdown",
   "metadata": {},
   "source": [
    "## 1) 데이터 생성을 위한 함수"
   ]
  },
  {
   "cell_type": "code",
   "execution_count": 1,
   "metadata": {},
   "outputs": [],
   "source": [
    "#-*-coding:utf-8-*-\n",
    "\n",
    "import argparse\n",
    "import sys\n",
    "import glob\n",
    "import numpy as np\n",
    "import io, os\n",
    "from PIL import Image\n",
    "from PIL import ImageDraw\n",
    "from PIL import ImageFont\n",
    "import collections\n",
    "\n",
    "import random\n",
    "import matplotlib.pyplot as plt\n",
    "from matplotlib import font_manager\n",
    "from tqdm import tqdm"
   ]
  },
  {
   "cell_type": "code",
   "execution_count": 2,
   "metadata": {},
   "outputs": [],
   "source": [
    "SRC_PATH = '../get_data/fonts/source/'\n",
    "TRG_PATH = '../get_data/fonts/target/'\n",
    "OUTPUT_PATH = '../get_data/dataset-11172/'"
   ]
  },
  {
   "cell_type": "code",
   "execution_count": 3,
   "metadata": {},
   "outputs": [],
   "source": [
    "## Image.new(\"L\"-> 흑백모드, size, color-> 채널개수)\n",
    "\n",
    "\n",
    "def draw_single_char(ch, font, canvas_size):\n",
    "    image = Image.new('L', (canvas_size, canvas_size), color=255)   ## 이미지 생성\n",
    "    drawing = ImageDraw.Draw(image)         ## 이미지 그리기 함수\n",
    "    w, h = drawing.textsize(ch, font=font)  ## 문자열크기 반환 함수(측정할 텍스트, ImageFont 인스턴스)\n",
    "    drawing.text(\n",
    "        ((canvas_size-w)/2, (canvas_size-h)/2),\n",
    "        ch,\n",
    "        fill=(0),\n",
    "        font=font\n",
    "    )\n",
    "    flag = np.sum(np.array(image))\n",
    "    \n",
    "    # 해당 font에 글자가 없으면 return None\n",
    "    if flag == 255 * 128 * 128:\n",
    "        return None\n",
    "    \n",
    "    return image"
   ]
  },
  {
   "cell_type": "code",
   "execution_count": 4,
   "metadata": {},
   "outputs": [],
   "source": [
    "### 예제 데이터 학습용\n",
    "\n",
    "def draw_example(ch, src_font, dst_font, canvas_size):\n",
    "    dst_img = draw_single_char(ch, dst_font, canvas_size)\n",
    "    \n",
    "    # 해당 font에 글자가 없으면 return None\n",
    "    if not dst_img:\n",
    "        return 1\n",
    "    \n",
    "    src_img = draw_single_char(ch, src_font, canvas_size)\n",
    "    example_img = Image.new(\"RGB\", (canvas_size * 2, canvas_size), (255, 255, 255)).convert('L')\n",
    "    example_img.paste(dst_img, (0, 0))\n",
    "    example_img.paste(src_img, (canvas_size, 0))   \n",
    "    return example_img\n"
   ]
  },
  {
   "cell_type": "code",
   "execution_count": 5,
   "metadata": {},
   "outputs": [],
   "source": [
    "### 손글씨 학습용\n",
    "\n",
    "def draw_handwriting(ch, src_font, canvas_size, dst_folder, label, count):\n",
    "    dst_path = dst_folder + \"%d_%04d\" % (label, count) + \".png\"\n",
    "    dst_img = Image.open(dst_path)\n",
    "    src_img = draw_single_char(ch, src_font, canvas_size)\n",
    "    example_img = Image.new(\"RGB\", (canvas_size * 2, canvas_size), (255, 255, 255)).convert('L')\n",
    "    example_img.paste(dst_img, (0, 0))\n",
    "    example_img.paste(src_img, (canvas_size, 0))\n",
    "    return example_img"
   ]
  },
  {
   "cell_type": "markdown",
   "metadata": {},
   "source": [
    "## 2) 데이터 생성작업"
   ]
  },
  {
   "cell_type": "code",
   "execution_count": 6,
   "metadata": {},
   "outputs": [],
   "source": [
    "co = \"0 1 2 3 4 5 6 7 8 9 A B C D E F\"\n",
    "start = \"AC00\"\n",
    "end = \"D7A3\"\n",
    "\n",
    "co = co.split(\" \")\n",
    "\n",
    "Hangul_Syllables = [a+b+c+d \n",
    "                    for a in co \n",
    "                    for b in co \n",
    "                    for c in co \n",
    "                    for d in co]\n",
    "\n",
    "Hangul_Syllables = np.array(Hangul_Syllables)\n",
    "\n",
    "s = np.where(start == Hangul_Syllables)[0][0]\n",
    "e = np.where(end == Hangul_Syllables)[0][0]\n",
    "\n",
    "Hangul_Syllables = Hangul_Syllables[s : e + 1]"
   ]
  },
  {
   "cell_type": "code",
   "execution_count": 7,
   "metadata": {},
   "outputs": [],
   "source": [
    "for i in range(1,35):\n",
    "    ran_fontnum = random.randrange(1,54)\n",
    "    \n",
    "    for it in range(1,3001):\n",
    "        ran_char = random.randrange(1,11172)\n",
    "        unicodeChars = chr(int(Hangul_Syllables[ran_char], 16))\n",
    "        \n",
    "        if ran_fontnum < 10:\n",
    "            ran_font = '0' + str(ran_fontnum)\n",
    "        else:\n",
    "            ran_font = str(ran_fontnum)\n",
    "        \n",
    "        source_font = ImageFont.truetype(font = SRC_PATH + \"source_font.ttf\", size = 128)\n",
    "        trg_font = ImageFont.truetype(font = TRG_PATH + ran_font +\".ttf\", size = 128)\n",
    "        \n",
    "        data = draw_example(unicodeChars,source_font, trg_font, 128)\n",
    "        \n",
    "        if data == 1:\n",
    "            continue\n",
    "        data.save(OUTPUT_PATH + \"%d_%04d\" % (i, it) + \".png\")"
   ]
  },
  {
   "cell_type": "code",
   "execution_count": null,
   "metadata": {},
   "outputs": [],
   "source": []
  }
 ],
 "metadata": {
  "kernelspec": {
   "display_name": "Python 3",
   "language": "python",
   "name": "python3"
  },
  "language_info": {
   "codemirror_mode": {
    "name": "ipython",
    "version": 3
   },
   "file_extension": ".py",
   "mimetype": "text/x-python",
   "name": "python",
   "nbconvert_exporter": "python",
   "pygments_lexer": "ipython3",
   "version": "3.7.9"
  }
 },
 "nbformat": 4,
 "nbformat_minor": 4
}
