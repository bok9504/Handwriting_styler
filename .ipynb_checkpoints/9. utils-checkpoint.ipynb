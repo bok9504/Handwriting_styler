{
 "cells": [
  {
   "cell_type": "code",
   "execution_count": 1,
   "metadata": {},
   "outputs": [],
   "source": [
    "from __future__ import print_function\n",
    "from __future__ import absolute_import\n",
    "\n",
    "import os\n",
    "import glob\n",
    "\n",
    "import imageio\n",
    "import scipy.misc as misc\n",
    "import numpy as np\n",
    "from io import BytesIO\n",
    "from PIL import Image\n",
    "from scipy.misc import imresize\n",
    "\n",
    "import matplotlib.pyplot as plt\n"
   ]
  },
  {
   "cell_type": "code",
   "execution_count": 2,
   "metadata": {},
   "outputs": [],
   "source": [
    "### seq의 사이즈를 batch_size에 맞게 만들어주는 함수\n",
    "### seq의 길이가 batch_size에 나머지로 나눠지면 seq 리턴\n",
    "### 안나눠지면 모자란 batch_size 만큼 seq의 뒤에 앞의 인자를 붙여줌\n",
    "\n",
    "def pad_seq(seq, batch_size):\n",
    "    # pad the sequence to be the multiples of batch_size\n",
    "    seq_len = len(seq)\n",
    "    if seq_len % batch_size == 0:\n",
    "        return seq\n",
    "    padded = batch_size - (seq_len % batch_size)\n",
    "    print(padded)\n",
    "    seq.extend(seq[:padded])\n",
    "    return seq"
   ]
  },
  {
   "cell_type": "code",
   "execution_count": 26,
   "metadata": {},
   "outputs": [],
   "source": [
    "### 이미지를 byte 형식으로 변환해주는 함수\n",
    "\n",
    "def bytes_to_file(bytes_img):\n",
    "    return BytesIO(bytes_img)"
   ]
  },
  {
   "cell_type": "code",
   "execution_count": 63,
   "metadata": {},
   "outputs": [],
   "source": [
    "### 학습시킬 고딕체 데이터와 다른 폰트 데이터가 합쳐진 이미지를 반으로 잘라서 두개의 이미지 데이터로 반환해주는 함수\n",
    "### 이미지 데이터를 3차원 배열로 변환하여 반환해줌\n",
    "### 첫번째: target data, 두번째: source 데이터\n",
    "\n",
    "def read_split_image(img):\n",
    "    mat = misc.imread(img).astype(np.float)  ## 이미지를 3차원 배열로 읽고 float형식으로 변환\n",
    "    side = int(mat.shape[1] / 2)             ## 이미지 가로 크기의 1/2 출력\n",
    "    assert side * 2 == mat.shape[1], \"사이즈가 안맞아\" ## side * 2 == mat.shape[1] 조건에 안맞을시 에러를 내주는 코드\n",
    "    img_A = mat[:, :side]  # 반반으로 나누어서 앞쪽것은 target\n",
    "    img_B = mat[:, side:]  # 반반으로 나누어서 뒤쪽것은 source\n",
    "\n",
    "    return img_A, img_B"
   ]
  },
  {
   "cell_type": "code",
   "execution_count": 89,
   "metadata": {},
   "outputs": [],
   "source": [
    "###  이미지의 일부분을 잘라서 저장해주는 함수\n",
    "###  어떠한 기준으로 얼마을 자르는지는 잘모르겠음\n",
    "###  그냥 랜덤값으로 나온값을 일정하게 보정하여 잘라주는데 왜이러는지 모르겠다\n",
    "\n",
    "def shift_and_resize_image(img, shift_x, shift_y, nw, nh):\n",
    "    w, h = img.shape\n",
    "    enlarged = misc.imresize(img, [nw, nh])\n",
    "    return enlarged[shift_x:shift_x + w, shift_y:shift_y + h]"
   ]
  },
  {
   "cell_type": "code",
   "execution_count": null,
   "metadata": {},
   "outputs": [],
   "source": [
    "###  \n",
    "\n",
    "def normalize_image(img):\n",
    "    \"\"\"\n",
    "    Make image zero centered and in between (-1, 1)\n",
    "    \"\"\"\n",
    "    normalized = (img / 127.5) - 1.\n",
    "    return normalized"
   ]
  },
  {
   "cell_type": "code",
   "execution_count": null,
   "metadata": {},
   "outputs": [],
   "source": []
  },
  {
   "cell_type": "code",
   "execution_count": null,
   "metadata": {},
   "outputs": [],
   "source": []
  },
  {
   "cell_type": "code",
   "execution_count": null,
   "metadata": {},
   "outputs": [],
   "source": []
  },
  {
   "cell_type": "code",
   "execution_count": 86,
   "metadata": {},
   "outputs": [],
   "source": [
    "import random\n",
    "import numpy as np             \n",
    "from scipy.misc import imread, imsave"
   ]
  },
  {
   "cell_type": "code",
   "execution_count": 64,
   "metadata": {},
   "outputs": [
    {
     "name": "stderr",
     "output_type": "stream",
     "text": [
      "C:\\tools\\Anaconda3\\envs\\test\\lib\\site-packages\\ipykernel_launcher.py:1: DeprecationWarning:     `imread` is deprecated!\n",
      "    `imread` is deprecated in SciPy 1.0.0, and will be removed in 1.2.0.\n",
      "    Use ``imageio.imread`` instead.\n",
      "  \"\"\"Entry point for launching an IPython kernel.\n"
     ]
    }
   ],
   "source": [
    "mat = misc.imread('./test.png').astype(np.float)"
   ]
  },
  {
   "cell_type": "code",
   "execution_count": 71,
   "metadata": {},
   "outputs": [],
   "source": [
    "w, h, z = mat.shape"
   ]
  },
  {
   "cell_type": "code",
   "execution_count": 72,
   "metadata": {},
   "outputs": [
    {
     "data": {
      "text/plain": [
       "(1334, 750)"
      ]
     },
     "execution_count": 72,
     "metadata": {},
     "output_type": "execute_result"
    }
   ],
   "source": [
    "w, h"
   ]
  },
  {
   "cell_type": "code",
   "execution_count": 76,
   "metadata": {},
   "outputs": [
    {
     "data": {
      "text/plain": [
       "1.1847947507338004"
      ]
     },
     "execution_count": 76,
     "metadata": {},
     "output_type": "execute_result"
    }
   ],
   "source": [
    "multiplier = random.uniform(1.00, 1.20)\n",
    "multiplier"
   ]
  },
  {
   "cell_type": "code",
   "execution_count": 77,
   "metadata": {},
   "outputs": [
    {
     "name": "stdout",
     "output_type": "stream",
     "text": [
      "1581\n",
      "889\n"
     ]
    }
   ],
   "source": [
    "nw = int(multiplier * w) + 1\n",
    "nh = int(multiplier * h) + 1\n",
    "print(nw)\n",
    "print(nh)"
   ]
  },
  {
   "cell_type": "code",
   "execution_count": 80,
   "metadata": {},
   "outputs": [
    {
     "name": "stdout",
     "output_type": "stream",
     "text": [
      "247\n",
      "139\n"
     ]
    }
   ],
   "source": [
    "print(nw - w)\n",
    "print(nh - h)"
   ]
  },
  {
   "cell_type": "code",
   "execution_count": 79,
   "metadata": {},
   "outputs": [
    {
     "name": "stdout",
     "output_type": "stream",
     "text": [
      "206\n",
      "40\n"
     ]
    }
   ],
   "source": [
    "shift_x = int(np.ceil(np.random.uniform(0.01, nw - w)))\n",
    "shift_y = int(np.ceil(np.random.uniform(0.01, nh - h)))\n",
    "print(shift_x)\n",
    "print(shift_y)"
   ]
  },
  {
   "cell_type": "code",
   "execution_count": 81,
   "metadata": {},
   "outputs": [
    {
     "name": "stderr",
     "output_type": "stream",
     "text": [
      "C:\\tools\\Anaconda3\\envs\\test\\lib\\site-packages\\ipykernel_launcher.py:1: DeprecationWarning:     `imresize` is deprecated!\n",
      "    `imresize` is deprecated in SciPy 1.0.0, and will be removed in 1.3.0.\n",
      "    Use Pillow instead: ``numpy.array(Image.fromarray(arr).resize())``.\n",
      "  \"\"\"Entry point for launching an IPython kernel.\n"
     ]
    }
   ],
   "source": [
    "enlarged = misc.imresize(mat, [nw, nh])"
   ]
  },
  {
   "cell_type": "code",
   "execution_count": 84,
   "metadata": {},
   "outputs": [],
   "source": [
    "enlarged = enlarged[shift_x:shift_x + w, shift_y:shift_y + h]"
   ]
  },
  {
   "cell_type": "code",
   "execution_count": 88,
   "metadata": {},
   "outputs": [
    {
     "name": "stderr",
     "output_type": "stream",
     "text": [
      "C:\\tools\\Anaconda3\\envs\\test\\lib\\site-packages\\ipykernel_launcher.py:1: DeprecationWarning:     `imsave` is deprecated!\n",
      "    `imsave` is deprecated in SciPy 1.0.0, and will be removed in 1.2.0.\n",
      "    Use ``imageio.imwrite`` instead.\n",
      "  \"\"\"Entry point for launching an IPython kernel.\n"
     ]
    }
   ],
   "source": [
    "imsave('cat_black.png', enlarged)"
   ]
  },
  {
   "cell_type": "code",
   "execution_count": 90,
   "metadata": {},
   "outputs": [],
   "source": [
    "normalized = (enlarged / 127.5) - 1."
   ]
  },
  {
   "cell_type": "code",
   "execution_count": 94,
   "metadata": {},
   "outputs": [
    {
     "ename": "ValueError",
     "evalue": "cannot reshape array of size 4002000 into shape (1,1334,750)",
     "output_type": "error",
     "traceback": [
      "\u001b[1;31m---------------------------------------------------------------------------\u001b[0m",
      "\u001b[1;31mValueError\u001b[0m                                Traceback (most recent call last)",
      "\u001b[1;32m<ipython-input-94-14bad3ba9c5a>\u001b[0m in \u001b[0;36m<module>\u001b[1;34m\u001b[0m\n\u001b[1;32m----> 1\u001b[1;33m \u001b[0mnormalized\u001b[0m\u001b[1;33m.\u001b[0m\u001b[0mreshape\u001b[0m\u001b[1;33m(\u001b[0m\u001b[1;36m1\u001b[0m\u001b[1;33m,\u001b[0m \u001b[0mlen\u001b[0m\u001b[1;33m(\u001b[0m\u001b[0mnormalized\u001b[0m\u001b[1;33m)\u001b[0m\u001b[1;33m,\u001b[0m \u001b[0mlen\u001b[0m\u001b[1;33m(\u001b[0m\u001b[0mnormalized\u001b[0m\u001b[1;33m[\u001b[0m\u001b[1;36m0\u001b[0m\u001b[1;33m]\u001b[0m\u001b[1;33m)\u001b[0m\u001b[1;33m)\u001b[0m\u001b[1;33m\u001b[0m\u001b[1;33m\u001b[0m\u001b[0m\n\u001b[0m",
      "\u001b[1;31mValueError\u001b[0m: cannot reshape array of size 4002000 into shape (1,1334,750)"
     ]
    }
   ],
   "source": [
    "normalized.reshape(1, len(normalized), len(normalized[0]))"
   ]
  },
  {
   "cell_type": "code",
   "execution_count": null,
   "metadata": {},
   "outputs": [],
   "source": []
  }
 ],
 "metadata": {
  "kernelspec": {
   "display_name": "Python 3",
   "language": "python",
   "name": "python3"
  },
  "language_info": {
   "codemirror_mode": {
    "name": "ipython",
    "version": 3
   },
   "file_extension": ".py",
   "mimetype": "text/x-python",
   "name": "python",
   "nbconvert_exporter": "python",
   "pygments_lexer": "ipython3",
   "version": "3.7.9"
  }
 },
 "nbformat": 4,
 "nbformat_minor": 4
}
